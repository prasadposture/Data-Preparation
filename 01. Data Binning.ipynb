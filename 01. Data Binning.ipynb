{
 "cells": [
  {
   "cell_type": "markdown",
   "id": "b98fa997",
   "metadata": {},
   "source": [
    "# Data Binning\n",
    "* Data binning is a data pre-processing technique used to reduce the effects of minor observation errors. The original data values which fall into a given small interval, a bin, are replaced by a value representative of that interval, often a central value (mean or median) or categorical variables.\n",
    "\n",
    "* Histograms are an example of data binning used in order to observe underlying frequency distributions. They typically occur in one-dimensional space and in equal intervals for ease of visualization.\n",
    "\n",
    "* Binning is used in machine learning to speed up. The decision-tree boosting method for supervised classification and regression in algorithms such as Microsoft's LightGBM and scikit-learn's Histogram-based Gradient Boosting Classification Tree."
   ]
  },
  {
   "cell_type": "code",
   "execution_count": 2,
   "id": "d55273a5",
   "metadata": {},
   "outputs": [],
   "source": [
    "#Import Library\n",
    "import pandas as pd\n",
    "import numpy as np\n",
    "import matplotlib.pyplot as plt\n",
    "\n",
    "#Loading data\n",
    "df=pd.read_csv(\"multiTimeline.csv\")"
   ]
  },
  {
   "cell_type": "code",
   "execution_count": 3,
   "id": "706ad1d7",
   "metadata": {},
   "outputs": [
    {
     "data": {
      "text/html": [
       "<div>\n",
       "<style scoped>\n",
       "    .dataframe tbody tr th:only-of-type {\n",
       "        vertical-align: middle;\n",
       "    }\n",
       "\n",
       "    .dataframe tbody tr th {\n",
       "        vertical-align: top;\n",
       "    }\n",
       "\n",
       "    .dataframe thead th {\n",
       "        text-align: right;\n",
       "    }\n",
       "</style>\n",
       "<table border=\"1\" class=\"dataframe\">\n",
       "  <thead>\n",
       "    <tr style=\"text-align: right;\">\n",
       "      <th></th>\n",
       "      <th>Month</th>\n",
       "      <th>Cupcake</th>\n",
       "    </tr>\n",
       "  </thead>\n",
       "  <tbody>\n",
       "    <tr>\n",
       "      <th>0</th>\n",
       "      <td>2004-01</td>\n",
       "      <td>4</td>\n",
       "    </tr>\n",
       "    <tr>\n",
       "      <th>1</th>\n",
       "      <td>2004-02</td>\n",
       "      <td>7</td>\n",
       "    </tr>\n",
       "    <tr>\n",
       "      <th>2</th>\n",
       "      <td>2004-03</td>\n",
       "      <td>5</td>\n",
       "    </tr>\n",
       "    <tr>\n",
       "      <th>3</th>\n",
       "      <td>2004-04</td>\n",
       "      <td>6</td>\n",
       "    </tr>\n",
       "    <tr>\n",
       "      <th>4</th>\n",
       "      <td>2004-05</td>\n",
       "      <td>5</td>\n",
       "    </tr>\n",
       "  </tbody>\n",
       "</table>\n",
       "</div>"
      ],
      "text/plain": [
       "     Month  Cupcake\n",
       "0  2004-01        4\n",
       "1  2004-02        7\n",
       "2  2004-03        5\n",
       "3  2004-04        6\n",
       "4  2004-05        5"
      ]
     },
     "execution_count": 3,
     "metadata": {},
     "output_type": "execute_result"
    }
   ],
   "source": [
    "#top five rows\n",
    "df.head(5)"
   ]
  },
  {
   "cell_type": "code",
   "execution_count": 4,
   "id": "d26a2a0c",
   "metadata": {},
   "outputs": [
    {
     "data": {
      "text/html": [
       "<div>\n",
       "<style scoped>\n",
       "    .dataframe tbody tr th:only-of-type {\n",
       "        vertical-align: middle;\n",
       "    }\n",
       "\n",
       "    .dataframe tbody tr th {\n",
       "        vertical-align: top;\n",
       "    }\n",
       "\n",
       "    .dataframe thead th {\n",
       "        text-align: right;\n",
       "    }\n",
       "</style>\n",
       "<table border=\"1\" class=\"dataframe\">\n",
       "  <thead>\n",
       "    <tr style=\"text-align: right;\">\n",
       "      <th></th>\n",
       "      <th>Month</th>\n",
       "      <th>Cupcake</th>\n",
       "    </tr>\n",
       "  </thead>\n",
       "  <tbody>\n",
       "    <tr>\n",
       "      <th>206</th>\n",
       "      <td>2021-03</td>\n",
       "      <td>47</td>\n",
       "    </tr>\n",
       "    <tr>\n",
       "      <th>207</th>\n",
       "      <td>2021-04</td>\n",
       "      <td>43</td>\n",
       "    </tr>\n",
       "    <tr>\n",
       "      <th>208</th>\n",
       "      <td>2021-05</td>\n",
       "      <td>43</td>\n",
       "    </tr>\n",
       "    <tr>\n",
       "      <th>209</th>\n",
       "      <td>2021-06</td>\n",
       "      <td>40</td>\n",
       "    </tr>\n",
       "    <tr>\n",
       "      <th>210</th>\n",
       "      <td>2021-07</td>\n",
       "      <td>38</td>\n",
       "    </tr>\n",
       "  </tbody>\n",
       "</table>\n",
       "</div>"
      ],
      "text/plain": [
       "       Month  Cupcake\n",
       "206  2021-03       47\n",
       "207  2021-04       43\n",
       "208  2021-05       43\n",
       "209  2021-06       40\n",
       "210  2021-07       38"
      ]
     },
     "execution_count": 4,
     "metadata": {},
     "output_type": "execute_result"
    }
   ],
   "source": [
    "#last five rows\n",
    "df.tail(5)"
   ]
  },
  {
   "cell_type": "code",
   "execution_count": 5,
   "id": "d2d18c20",
   "metadata": {},
   "outputs": [
    {
     "name": "stdout",
     "output_type": "stream",
     "text": [
      "min_value : 4\n",
      "max_value : 100\n"
     ]
    }
   ],
   "source": [
    "#Getting minimum and maximum of the data column\n",
    "min_value=df['Cupcake'].min()\n",
    "max_value=df['Cupcake'].max()\n",
    "print('min_value :', min_value)\n",
    "print('max_value :', max_value)"
   ]
  },
  {
   "cell_type": "code",
   "execution_count": 7,
   "id": "6ff3f013",
   "metadata": {},
   "outputs": [
    {
     "data": {
      "text/plain": [
       "array([  4.,  36.,  68., 100.])"
      ]
     },
     "execution_count": 7,
     "metadata": {},
     "output_type": "execute_result"
    }
   ],
   "source": [
    "#Creating bins of equal width\n",
    "bins=np.linspace(min_value, max_value, 4)\n",
    "bins"
   ]
  },
  {
   "cell_type": "code",
   "execution_count": 8,
   "id": "d90d3c03",
   "metadata": {},
   "outputs": [],
   "source": [
    "#Labelling the bins\n",
    "#4-36 : small\n",
    "#36-68 : medium\n",
    "#68-100: big\n",
    "labels=['small','medium','big']"
   ]
  },
  {
   "cell_type": "code",
   "execution_count": 11,
   "id": "d26a1ab6",
   "metadata": {},
   "outputs": [],
   "source": [
    "#Creating new dataframe based on the bins\n",
    "data1=pd.cut(df['Cupcake'], bins=bins, labels=labels, include_lowest=True)\n",
    "#include_lowest=True includes lower limit of the bin while assigning categorical variable\n",
    "#if batch size was 36 it would be considerered as medium not small"
   ]
  },
  {
   "cell_type": "code",
   "execution_count": 12,
   "id": "82e07641",
   "metadata": {},
   "outputs": [
    {
     "data": {
      "text/plain": [
       "0    small\n",
       "1    small\n",
       "2    small\n",
       "3    small\n",
       "4    small\n",
       "Name: Cupcake, dtype: category\n",
       "Categories (3, object): ['small' < 'medium' < 'big']"
      ]
     },
     "execution_count": 12,
     "metadata": {},
     "output_type": "execute_result"
    }
   ],
   "source": [
    "data1.head()"
   ]
  },
  {
   "cell_type": "code",
   "execution_count": 13,
   "id": "4ffae3c5",
   "metadata": {},
   "outputs": [
    {
     "data": {
      "text/plain": [
       "206    medium\n",
       "207    medium\n",
       "208    medium\n",
       "209    medium\n",
       "210    medium\n",
       "Name: Cupcake, dtype: category\n",
       "Categories (3, object): ['small' < 'medium' < 'big']"
      ]
     },
     "execution_count": 13,
     "metadata": {},
     "output_type": "execute_result"
    }
   ],
   "source": [
    "data1.tail()"
   ]
  },
  {
   "cell_type": "markdown",
   "id": "de7e34e3",
   "metadata": {},
   "source": [
    "You can see that the new dataframe has categorical values in place of numerical values which are substituted based on binning,"
   ]
  },
  {
   "cell_type": "code",
   "execution_count": 39,
   "id": "f6362961",
   "metadata": {},
   "outputs": [
    {
     "data": {
      "text/plain": [
       "medium    83\n",
       "small     67\n",
       "big       61\n",
       "Name: Cupcake, dtype: int64"
      ]
     },
     "execution_count": 39,
     "metadata": {},
     "output_type": "execute_result"
    }
   ],
   "source": [
    "data1.value_counts()"
   ]
  },
  {
   "cell_type": "code",
   "execution_count": 22,
   "id": "b406bb58",
   "metadata": {},
   "outputs": [
    {
     "data": {
      "text/plain": [
       "(array([67., 83., 61.]),\n",
       " array([0.        , 0.66666667, 1.33333333, 2.        ]),\n",
       " <BarContainer object of 3 artists>)"
      ]
     },
     "execution_count": 22,
     "metadata": {},
     "output_type": "execute_result"
    },
    {
     "data": {
      "image/png": "[encoded data removed]",
      "text/plain": [
       "<Figure size 432x288 with 1 Axes>"
      ]
     },
     "metadata": {
      "needs_background": "light"
     },
     "output_type": "display_data"
    }
   ],
   "source": [
    "#Plotting the histogram of bins\n",
    "plt.hist(data1,bins=3)\n",
    "#setting number of bins=3 since we have three categorical variables created based on binning\n",
    "#the same binning method is used by matplotlib for plotting the histogram"
   ]
  },
  {
   "cell_type": "code",
   "execution_count": 29,
   "id": "23091d12",
   "metadata": {},
   "outputs": [],
   "source": [
    "#Binning based on quantiles :\n",
    "#here we use quantiles such as quartiles, deciles etc for making bins\n",
    "labels=['small','medium','big','huge']\n",
    "data2=pd.qcut(df['Cupcake'], q=4, labels=labels)\n",
    "#precaution: number of labels should be equal to number of quantiles"
   ]
  },
  {
   "cell_type": "code",
   "execution_count": 30,
   "id": "a377e4b9",
   "metadata": {},
   "outputs": [
    {
     "data": {
      "text/plain": [
       "0    small\n",
       "1    small\n",
       "2    small\n",
       "3    small\n",
       "4    small\n",
       "Name: Cupcake, dtype: category\n",
       "Categories (4, object): ['small' < 'medium' < 'big' < 'huge']"
      ]
     },
     "execution_count": 30,
     "metadata": {},
     "output_type": "execute_result"
    }
   ],
   "source": [
    "data2.head()"
   ]
  },
  {
   "cell_type": "code",
   "execution_count": 31,
   "id": "bf2db66e",
   "metadata": {},
   "outputs": [
    {
     "data": {
      "text/plain": [
       "206    medium\n",
       "207    medium\n",
       "208    medium\n",
       "209    medium\n",
       "210    medium\n",
       "Name: Cupcake, dtype: category\n",
       "Categories (4, object): ['small' < 'medium' < 'big' < 'huge']"
      ]
     },
     "execution_count": 31,
     "metadata": {},
     "output_type": "execute_result"
    }
   ],
   "source": [
    "data2.tail()"
   ]
  },
  {
   "cell_type": "code",
   "execution_count": 38,
   "id": "d24d15d0",
   "metadata": {},
   "outputs": [
    {
     "data": {
      "text/plain": [
       "(array([55., 56., 47., 53.]),\n",
       " array([0.  , 0.75, 1.5 , 2.25, 3.  ]),\n",
       " <BarContainer object of 4 artists>)"
      ]
     },
     "execution_count": 38,
     "metadata": {},
     "output_type": "execute_result"
    },
    {
     "data": {
      "image/png": "[encoded data removed]",
      "text/plain": [
       "<Figure size 432x288 with 1 Axes>"
      ]
     },
     "metadata": {
      "needs_background": "light"
     },
     "output_type": "display_data"
    }
   ],
   "source": [
    "#Plotting histograms with bins\n",
    "plt.hist(data2, bins=4)"
   ]
  },
  {
   "cell_type": "markdown",
   "id": "23a8c9c1",
   "metadata": {},
   "source": [
    "The End"
   ]
  }
 ],
 "metadata": {
  "kernelspec": {
   "display_name": "Python 3",
   "language": "python",
   "name": "python3"
  },
  "language_info": {
   "codemirror_mode": {
    "name": "ipython",
    "version": 3
   },
   "file_extension": ".py",
   "mimetype": "text/x-python",
   "name": "python",
   "nbconvert_exporter": "python",
   "pygments_lexer": "ipython3",
   "version": "3.8.8"
  }
 },
 "nbformat": 4,
 "nbformat_minor": 5
}
